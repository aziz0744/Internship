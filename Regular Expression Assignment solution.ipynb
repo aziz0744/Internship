{
 "cells": [
  {
   "cell_type": "code",
   "execution_count": 3,
   "id": "1ce88e32",
   "metadata": {},
   "outputs": [
    {
     "name": "stdout",
     "output_type": "stream",
     "text": [
      "Original text: Python Exercises, PHP exercises.\n",
      "Modified text: Python:Exercises::PHP:exercises:\n"
     ]
    }
   ],
   "source": [
    "# Ans 1\n",
    "\n",
    "import re\n",
    "\n",
    "def replace_with_colon(text):\n",
    "    # We have to use  regex to replace spaces, commas, and dots with a colon\n",
    "    result = re.sub(r'[ ,\\.]', ':', text)\n",
    "    return result\n",
    "\n",
    "# Sample text\n",
    "sample_text = 'Python Exercises, PHP exercises.'\n",
    "output = replace_with_colon(sample_text)\n",
    "\n",
    "print(\"Original text:\", sample_text)\n",
    "print(\"Modified text:\", output)\n"
   ]
  },
  {
   "cell_type": "code",
   "execution_count": 4,
   "id": "e78891b7",
   "metadata": {},
   "outputs": [
    {
     "name": "stdout",
     "output_type": "stream",
     "text": [
      "            SUMMARY\n",
      "0       hello world\n",
      "1        XXXXX test\n",
      "2  123four five six\n"
     ]
    }
   ],
   "source": [
    "# Ans 2\n",
    "\n",
    "import pandas as pd\n",
    "import re\n",
    "\n",
    "data = {'SUMMARY': ['hello, world!', 'XXXXX test', '123four, five:; six...']}\n",
    "\n",
    "\n",
    "df = pd.DataFrame(data)\n",
    "\n",
    "# We write fuction to clean the text\n",
    "def clean_text(text):\n",
    "    cleaned = re.sub(r'\\bXXXX\\b|\\W+', ' ', text)\n",
    "    cleaned = cleaned.strip()\n",
    "    return cleaned\n",
    "\n",
    "df['SUMMARY'] = df['SUMMARY'].apply(clean_text)\n",
    "\n",
    "# Now print the cleaned DataFrame\n",
    "print(df)\n"
   ]
  },
  {
   "cell_type": "code",
   "execution_count": 5,
   "id": "3ff62512",
   "metadata": {},
   "outputs": [
    {
     "name": "stdout",
     "output_type": "stream",
     "text": [
      "Words with 4 or more characters: ['This', 'test', 'sentence', 'with', 'some', 'words', 'like', 'Tiger', 'Zebra']\n"
     ]
    }
   ],
   "source": [
    "# Ans 3\n",
    "\n",
    "import re\n",
    "\n",
    "def find_long_words(text):\n",
    "    # We have to compile a regular expression pattern to find words with 4 or more characters\n",
    "    pattern = re.compile(r'\\b\\w{4,}\\b')\n",
    "    \n",
    "    long_words = pattern.findall(text)\n",
    "    \n",
    "    return long_words\n",
    "\n",
    "# Let's take an Example\n",
    "sample_text = \"This is a test sentence with some big words like Tiger and Zebra.\"\n",
    "result = find_long_words(sample_text)\n",
    "\n",
    "print(\"Words with 4 or more characters:\", result)\n"
   ]
  },
  {
   "cell_type": "code",
   "execution_count": 7,
   "id": "4f866806",
   "metadata": {},
   "outputs": [
    {
     "name": "stdout",
     "output_type": "stream",
     "text": [
      "Words with 3, 4, or 5 characters: ['This', 'test', 'with', 'some', 'big', 'words', 'like', 'cat', 'dog', 'mango', 'and', 'apple']\n"
     ]
    }
   ],
   "source": [
    "# Ans 4\n",
    "\n",
    "import re\n",
    "\n",
    "def find_specific_length_words(text):\n",
    "    # We have to compile a regular expression pattern to find words with 3, 4, or 5 characters\n",
    "    pattern = re.compile(r'\\b\\w{3,5}\\b')\n",
    "    specific_length_words = pattern.findall(text)\n",
    "    return specific_length_words\n",
    "\n",
    "# Let's take an example usage\n",
    "sample_text = \"This is a test sentence with some big words like cat, dog, mango and apple.\"\n",
    "result = find_specific_length_words(sample_text)\n",
    "\n",
    "print(\"Words with 3, 4, or 5 characters:\", result)\n"
   ]
  },
  {
   "cell_type": "code",
   "execution_count": 8,
   "id": "925e7378",
   "metadata": {},
   "outputs": [
    {
     "name": "stdout",
     "output_type": "stream",
     "text": [
      "example\n",
      "hr@fliprobo\n",
      "github\n",
      "Hello\n",
      "Data\n"
     ]
    }
   ],
   "source": [
    "# Ans 5\n",
    "\n",
    "import re\n",
    "\n",
    "def remove_parentheses(text_list):\n",
    "    pattern = re.compile(r'\\s*\\(.*?\\)\\s*')\n",
    "    \n",
    "    # We ave to apply the pattern on each string in the list using a list comprehension\n",
    "    cleaned_list = [pattern.sub('', text) for text in text_list]\n",
    "    \n",
    "    return cleaned_list\n",
    "\n",
    "# Let's take an example usage\n",
    "sample_text = [\"example (.com)\", \"hr@fliprobo (.com)\", \"github (.com)\", \"Hello (Data Science World)\", \"Data (Scientist)\"]\n",
    "result = remove_parentheses(sample_text)\n",
    "\n",
    "for item in result:\n",
    "    print(item)\n"
   ]
  },
  {
   "cell_type": "code",
   "execution_count": 9,
   "id": "8384b12b",
   "metadata": {},
   "outputs": [
    {
     "name": "stdout",
     "output_type": "stream",
     "text": [
      "example\n",
      "hr@fliprobo\n",
      "github\n",
      "Hello\n",
      "Data\n"
     ]
    }
   ],
   "source": [
    "# Ans 6 \n",
    "\n",
    "import re\n",
    "\n",
    "def remove_parentheses_from_file(file_path):\n",
    "    with open(file_path, 'r') as file:\n",
    "        lines = file.readlines()\n",
    "    pattern = re.compile(r'\\s*\\(.*?\\)\\s*')\n",
    "    \n",
    "    # Let's remove parentheses content from each line\n",
    "    cleaned_lines = [pattern.sub('', line).strip() for line in lines]\n",
    "    \n",
    "    # Now print the cleaned lines\n",
    "    for line in cleaned_lines:\n",
    "        print(line)\n",
    "\n",
    "# Let's take an example \n",
    "file_path = 'sample_text.txt'\n",
    "\n",
    "# Let's take Sample text for demonstration purposes\n",
    "sample_text = [\"example (.com)\", \"hr@fliprobo (.com)\", \"github (.com)\", \"Hello (Data Science World)\", \"Data (Scientist)\"]\n",
    "\n",
    "with open(file_path, 'w') as file:\n",
    "    for item in sample_text:\n",
    "        file.write(item + '\\n')\n",
    "\n",
    "# At the end remove the parentheses from the text in the file\n",
    "remove_parentheses_from_file(file_path)\n",
    "\n"
   ]
  },
  {
   "cell_type": "code",
   "execution_count": 10,
   "id": "713d135d",
   "metadata": {},
   "outputs": [
    {
     "name": "stdout",
     "output_type": "stream",
     "text": [
      "['Importance', 'Of', 'Regular', 'Expressions', 'In', 'Python']\n"
     ]
    }
   ],
   "source": [
    "# Ans 7 \n",
    "\n",
    "import re\n",
    "\n",
    "def split_on_uppercase(text):\n",
    "    words = re.findall(r'[A-Z][a-z]*', text)\n",
    "    return words\n",
    "\n",
    "# Let's take an example\n",
    "sample_text = \"ImportanceOfRegularExpressionsInPython\"\n",
    "result = split_on_uppercase(sample_text)\n",
    "\n",
    "print(result)\n"
   ]
  },
  {
   "cell_type": "code",
   "execution_count": 12,
   "id": "10e7b327",
   "metadata": {},
   "outputs": [
    {
     "name": "stdout",
     "output_type": "stream",
     "text": [
      "RegularExpression 1IsAn 2ImportantTopic 3InPython\n"
     ]
    }
   ],
   "source": [
    "# Ans 8\n",
    "\n",
    "import re\n",
    "\n",
    "def insert_spaces_before_numbers(text):\n",
    "    result = re.sub(r'(\\d)', r' \\1', text)\n",
    "    return result\n",
    "\n",
    "# Let's take an Example\n",
    "sample_text = \"RegularExpression1IsAn2ImportantTopic3InPython\"\n",
    "result = insert_spaces_before_numbers(sample_text)\n",
    "\n",
    "print(result)\n"
   ]
  },
  {
   "cell_type": "code",
   "execution_count": 13,
   "id": "8474536c",
   "metadata": {},
   "outputs": [
    {
     "name": "stdout",
     "output_type": "stream",
     "text": [
      "Regular Expression 1 Is An 2 Important Topic 3 In Python\n"
     ]
    }
   ],
   "source": [
    "# Ans 9\n",
    "\n",
    "import re\n",
    "\n",
    "def insert_spaces_before_capitals_and_numbers(text):\n",
    "    result = re.sub(r'(?<!^)(?=[A-Z0-9])', ' ', text)\n",
    "    return result\n",
    "\n",
    "# Let's take an example\n",
    "sample_text = \"RegularExpression1IsAn2ImportantTopic3InPython\"\n",
    "result = insert_spaces_before_capitals_and_numbers(sample_text)\n",
    "\n",
    "print(result)\n"
   ]
  },
  {
   "cell_type": "code",
   "execution_count": 14,
   "id": "b542dacc",
   "metadata": {},
   "outputs": [
    {
     "name": "stdout",
     "output_type": "stream",
     "text": [
      "                   Country first_six_letters\n",
      "0              Switzerland            Switze\n",
      "1                  Iceland            Icelan\n",
      "2                  Denmark            Denmar\n",
      "3                   Norway            Norway\n",
      "4                   Canada            Canada\n",
      "5                  Finland            Finlan\n",
      "6              Netherlands            Nether\n",
      "7                   Sweden            Sweden\n",
      "8              New Zealand            New Ze\n",
      "9                Australia            Austra\n",
      "10                  Israel            Israel\n",
      "11              Costa Rica            Costa \n",
      "12                 Austria            Austri\n",
      "13                  Mexico            Mexico\n",
      "14           United States            United\n",
      "15                  Brazil            Brazil\n",
      "16              Luxembourg            Luxemb\n",
      "17                 Ireland            Irelan\n",
      "18                 Belgium            Belgiu\n",
      "19    United Arab Emirates            United\n",
      "20          United Kingdom            United\n",
      "21                    Oman              Oman\n",
      "22               Venezuela            Venezu\n",
      "23               Singapore            Singap\n",
      "24                  Panama            Panama\n",
      "25                 Germany            German\n",
      "26                   Chile             Chile\n",
      "27                   Qatar             Qatar\n",
      "28                  France            France\n",
      "29               Argentina            Argent\n",
      "30          Czech Republic            Czech \n",
      "31                 Uruguay            Urugua\n",
      "32                Colombia            Colomb\n",
      "33                Thailand            Thaila\n",
      "34            Saudi Arabia            Saudi \n",
      "35                   Spain             Spain\n",
      "36                   Malta             Malta\n",
      "37                Slovakia            Slovak\n",
      "38                  Poland            Poland\n",
      "39                Bulgaria            Bulgar\n",
      "40              Montenegro            Monten\n",
      "41                  Serbia            Serbia\n",
      "42                  Latvia            Latvia\n",
      "43                 Estonia            Estoni\n",
      "44                 Romania            Romani\n",
      "45               Lithuania            Lithua\n",
      "46                 Croatia            Croati\n",
      "47  Bosnia and Herzegovina            Bosnia\n",
      "48                 Belarus            Belaru\n",
      "49                 Ukraine            Ukrain\n"
     ]
    }
   ],
   "source": [
    "# Ans 10 \n",
    "\n",
    "import pandas as pd\n",
    "from io import StringIO\n",
    "\n",
    "data = \"\"\"Country,Region,Happiness Rank,Happiness Score,Standard Error,Economy (GDP per Capita),Family,Health (Life Expectancy),Freedom,Trust (Government Corruption),Generosity,Dystopia Residual\n",
    "Switzerland,Western Europe,1,7.587,0.03411,1.39651,1.34951,0.94143,0.66557,0.41978,0.29678,2.51738\n",
    "Iceland,Western Europe,2,7.561,0.04884,1.30232,1.40223,0.94784,0.62877,0.14145,0.4363,2.70201\n",
    "Denmark,Western Europe,3,7.527,0.03328,1.32548,1.36058,0.87464,0.64938,0.48357,0.34139,2.49204\n",
    "Norway,Western Europe,4,7.522,0.0388,1.459,1.33095,0.88521,0.66973,0.36503,0.34699,2.46531\n",
    "Canada,North America,5,7.427,0.03553,1.32629,1.32261,0.90563,0.63297,0.32957,0.45811,2.45176\n",
    "Finland,Western Europe,6,7.406,0.0314,1.29025,1.31826,0.88911,0.64169,0.41372,0.23351,2.61955\n",
    "Netherlands,Western Europe,7,7.378,0.02799,1.32944,1.28017,0.89284,0.61576,0.31814,0.4761,2.4657\n",
    "Sweden,Western Europe,8,7.364,0.03157,1.33171,1.28907,0.91087,0.6598,0.43844,0.36262,2.37119\n",
    "New Zealand,Australia and New Zealand,9,7.286,0.03371,1.25018,1.31967,0.90837,0.63938,0.42922,0.47501,2.26425\n",
    "Australia,Australia and New Zealand,10,7.284,0.04083,1.33358,1.30923,0.93156,0.65124,0.35637,0.43562,2.26646\n",
    "Israel,Middle East and Northern Africa,11,7.278,0.0347,1.22857,1.22393,0.91387,0.41319,0.07785,0.33172,3.08854\n",
    "Costa Rica,Latin America and Caribbean,12,7.226,0.04454,0.95578,1.23788,0.86027,0.63376,0.10583,0.25497,3.17728\n",
    "Austria,Western Europe,13,7.2,0.03751,1.33723,1.29704,0.89042,0.62433,0.18676,0.33088,2.5332\n",
    "Mexico,Latin America and Caribbean,14,7.187,0.04176,1.02054,0.91451,0.81444,0.48181,0.21312,0.14074,3.60214\n",
    "United States,North America,15,7.119,0.03839,1.39451,1.24711,0.86179,0.54604,0.1589,0.40105,2.51011\n",
    "Brazil,Latin America and Caribbean,16,6.983,0.04076,0.98124,1.23287,0.69702,0.49049,0.17521,0.14574,3.26001\n",
    "Luxembourg,Western Europe,17,6.946,0.03499,1.56391,1.21963,0.91894,0.61583,0.37798,0.28034,1.96961\n",
    "Ireland,Western Europe,18,6.94,0.03676,1.33596,1.36948,0.89533,0.61777,0.28703,0.45901,1.9757\n",
    "Belgium,Western Europe,19,6.937,0.03595,1.30782,1.28566,0.89667,0.5845,0.2254,0.2225,2.41484\n",
    "United Arab Emirates,Middle East and Northern Africa,20,6.901,0.03729,1.42727,1.12575,0.80925,0.64157,0.38583,0.26428,2.24743\n",
    "United Kingdom,Western Europe,21,6.867,0.01866,1.26637,1.28548,0.90943,0.59625,0.32067,0.51912,1.96994\n",
    "Oman,Middle East and Northern Africa,22,6.853,0.05335,1.36011,1.08182,0.76276,0.63274,0.32524,0.21542,2.47489\n",
    "Venezuela,Latin America and Caribbean,23,6.81,0.06476,1.04424,1.25596,0.72052,0.42908,0.11069,0.05841,3.19131\n",
    "Singapore,Southeastern Asia,24,6.798,0.0378,1.52186,1.02,1.02525,0.54252,0.4921,0.31105,1.88501\n",
    "Panama,Latin America and Caribbean,25,6.786,0.0491,1.06353,1.1985,0.79661,0.5421,0.0927,0.24434,2.84848\n",
    "Germany,Western Europe,26,6.75,0.01848,1.32792,1.29937,0.89186,0.61477,0.21843,0.28214,2.11569\n",
    "Chile,Latin America and Caribbean,27,6.67,0.058,1.10715,1.12447,0.85857,0.44132,0.12869,0.33363,2.67585\n",
    "Qatar,Middle East and Northern Africa,28,6.611,0.06257,1.69042,1.0786,0.79733,0.6404,0.52208,0.32573,1.55674\n",
    "France,Western Europe,29,6.575,0.03512,1.27778,1.26038,0.94579,0.55011,0.20646,0.12332,2.21126\n",
    "Argentina,Latin America and Caribbean,30,6.574,0.04612,1.05351,1.24823,0.78723,0.44974,0.08484,0.11451,2.836\n",
    "Czech Republic,Central and Eastern Europe,31,6.505,0.04168,1.17898,1.20643,0.84483,0.46364,0.02652,0.10686,2.67782\n",
    "Uruguay,Latin America and Caribbean,32,6.485,0.04539,1.06166,1.2089,0.8116,0.60362,0.24558,0.2324,2.32142\n",
    "Colombia,Latin America and Caribbean,33,6.477,0.05051,0.91861,1.24018,0.69077,0.53466,0.0512,0.18401,2.85737\n",
    "Thailand,Southeastern Asia,34,6.455,0.03557,0.9669,1.26504,0.7385,0.55664,0.03187,0.5763,2.31945\n",
    "Saudi Arabia,Middle East and Northern Africa,35,6.411,0.04633,1.39541,1.08393,0.72025,0.31048,0.32524,0.13706,2.43872\n",
    "Spain,Western Europe,36,6.329,0.03468,1.23011,1.31379,0.95562,0.45951,0.06398,0.18227,2.12367\n",
    "Malta,Western Europe,37,6.302,0.04206,1.2074,1.30203,0.88721,0.60365,0.13586,0.51768,1.64893\n",
    "Slovakia,Central and Eastern Europe,38,6.272,0.03427,1.15809,1.24711,0.71027,0.50957,0.18222,0.16236,2.29235\n",
    "Poland,Central and Eastern Europe,39,6.267,0.03135,1.18857,1.22684,0.65673,0.5231,0.04283,0.08465,2.40458\n",
    "Bulgaria,Central and Eastern Europe,40,6.254,0.03744,1.09677,1.29248,0.68648,0.53159,0.17709,0.05548,2.37899\n",
    "Montenegro,Central and Eastern Europe,41,6.232,0.03744,1.15921,1.22732,0.68454,0.56559,0.17772,0.09611,1.71762\n",
    "Serbia,Central and Eastern Europe,42,6.181,0.03754,1.09369,1.19565,0.6721,0.59988,0.15559,0.08667,1.64373\n",
    "Latvia,Central and Eastern Europe,43,6.175,0.03736,1.12978,1.12692,0.70734,0.57371,0.13239,0.13043,1.61616\n",
    "Estonia,Central and Eastern Europe,44,6.117,0.03215,1.11096,1.12784,0.72115,0.59472,0.04273,0.0346,1.39452\n",
    "Romania,Central and Eastern Europe,45,6.102,0.02912,1.10562,1.26143,0.6622,0.59327,0.07716,0.05186,1.57593\n",
    "Lithuania,Central and Eastern Europe,46,6.069,0.0304,1.10252,1.14117,0.68158,0.59665,0.07153,0.01698,1.43535\n",
    "Croatia,Central and Eastern Europe,47,6.029,0.03741,1.1124,1.13745,0.62873,0.54627,0.14709,0.01482,1.41684\n",
    "Bosnia and Herzegovina,Central and Eastern Europe,48,5.939,0.03124,1.11729,1.1086,0.62162,0.44767,0.07543,0.0183,1.45309\n",
    "Belarus,Central and Eastern Europe,49,5.932,0.03065,1.13854,1.09586,0.61703,0.57968,0.08419,0.01512,1.40253\n",
    "Ukraine,Central and Eastern Europe,50,5.857,0.03436,1.09665,1.10684,0.55916,0.5644,0.09363,0.05061,1.36237\n",
    "\"\"\"\n",
    "\n",
    "df = pd.read_csv(StringIO(data))\n",
    "\n",
    "# Let's create a new column with the first 6 letters of each country\n",
    "df['first_six_letters'] = df['Country'].str[:6]\n",
    "\n",
    "print(df[['Country', 'first_six_letters']])\n"
   ]
  },
  {
   "cell_type": "code",
   "execution_count": 15,
   "id": "cc8cb810",
   "metadata": {},
   "outputs": [
    {
     "name": "stdout",
     "output_type": "stream",
     "text": [
      "'Valid_String123': Valid\n",
      "'Invalid String!': Invalid\n",
      "'Another_Valid123': Valid\n",
      "'Invalid@String': Invalid\n",
      "'123456': Valid\n",
      "'___': Valid\n"
     ]
    }
   ],
   "source": [
    "# Ans 11\n",
    "\n",
    "\n",
    "import re\n",
    "\n",
    "def is_valid_string(s):\n",
    "    pattern = r'^[a-zA-Z0-9_]+$'\n",
    "    \n",
    "    if re.match(pattern, s):\n",
    "        return True\n",
    "    else:\n",
    "        return False\n",
    "\n",
    "# Let's take some test cases\n",
    "test_strings = [\n",
    "    \"Valid_String123\",    \n",
    "    \"Invalid String!\",    \n",
    "    \"Another_Valid123\",  \n",
    "    \"Invalid@String\",    \n",
    "    \"123456\",            \n",
    "    \"___\",               \n",
    "]\n",
    "\n",
    "# Let's test the function\n",
    "for test in test_strings:\n",
    "    result = is_valid_string(test)\n",
    "    print(f\"'{test}': {'Valid' if result else 'Invalid'}\")\n"
   ]
  },
  {
   "cell_type": "code",
   "execution_count": 16,
   "id": "9a9bcbdf",
   "metadata": {},
   "outputs": [
    {
     "name": "stdout",
     "output_type": "stream",
     "text": [
      "'123abc': Starts with 123\n",
      "'456def': Does not start with 123\n",
      "'789ghi': Does not start with 123\n",
      "'abc123': Does not start with 123\n"
     ]
    }
   ],
   "source": [
    "# Ans 12\n",
    "\n",
    "import re\n",
    "\n",
    "def starts_with_number(s, number):\n",
    "    number_str = str(number)\n",
    "    \n",
    "    # Let's define the regular expression pattern\n",
    "    pattern = r'^' + re.escape(number_str)\n",
    "    \n",
    "    if re.match(pattern, s):\n",
    "        return True\n",
    "    else:\n",
    "        return False\n",
    "\n",
    "# Let's take some example \n",
    "test_strings = [\n",
    "    \"123abc\",   \n",
    "    \"456def\",    \n",
    "    \"789ghi\",    \n",
    "    \"abc123\",  \n",
    "]\n",
    "\n",
    "# Let's test the function\n",
    "number_to_check = 123\n",
    "for test in test_strings:\n",
    "    result = starts_with_number(test, number_to_check)\n",
    "    print(f\"'{test}': {'Starts with' if result else 'Does not start with'} {number_to_check}\")\n"
   ]
  },
  {
   "cell_type": "code",
   "execution_count": 17,
   "id": "4e55e451",
   "metadata": {},
   "outputs": [
    {
     "name": "stdout",
     "output_type": "stream",
     "text": [
      "Original IP: 192.168.01.01 -> Cleaned IP: 192.168.1.1\n",
      "Original IP: 10.000.0.1 -> Cleaned IP: 10.0.0.1\n",
      "Original IP: 255.255.255.255 -> Cleaned IP: 255.255.255.255\n",
      "Original IP: 001.002.003.004 -> Cleaned IP: 1.2.3.4\n"
     ]
    }
   ],
   "source": [
    "# Ans 13\n",
    "\n",
    "def remove_leading_zeros(ip_address):\n",
    "    # Split the IP address into octets\n",
    "    octets = ip_address.split('.')\n",
    "    \n",
    "    # Remove leading zeros from each octet and convert to integer\n",
    "    cleaned_octets = [str(int(octet)) for octet in octets]\n",
    "    \n",
    "    # Join the cleaned octets back into an IP address\n",
    "    cleaned_ip_address = '.'.join(cleaned_octets)\n",
    "    \n",
    "    return cleaned_ip_address\n",
    "\n",
    "# Let's test examples\n",
    "test_ips = [\n",
    "    \"192.168.01.01\",  \n",
    "    \"10.000.0.1\",    \n",
    "    \"255.255.255.255\", \n",
    "    \"001.002.003.004\", \n",
    "]\n",
    "\n",
    "# Let's test the function\n",
    "for ip in test_ips:\n",
    "    cleaned_ip = remove_leading_zeros(ip)\n",
    "    print(f\"Original IP: {ip} -> Cleaned IP: {cleaned_ip}\")\n"
   ]
  },
  {
   "cell_type": "code",
   "execution_count": 18,
   "id": "fa5fcf3d",
   "metadata": {},
   "outputs": [
    {
     "name": "stdout",
     "output_type": "stream",
     "text": [
      "August 15th 1947\n"
     ]
    }
   ],
   "source": [
    "# Ans 14\n",
    "\n",
    "import re\n",
    "\n",
    "# Let's take sample text\n",
    "sample_text = \"On August 15th 1947 that India was declared independent from British colonialism, and the reins of control were handed over to the leaders of the Country.\"\n",
    "\n",
    "# Write the sample text to a file\n",
    "with open('sample_text.txt', 'w') as file:\n",
    "    file.write(sample_text)\n",
    "\n",
    "date_pattern = r'\\b[A-Za-z]+ \\d{1,2}(?:st|nd|rd|th)? \\d{4}\\b'\n",
    "\n",
    "with open('sample_text.txt', 'r') as file:\n",
    "    text = file.read()\n",
    "\n",
    "matches = re.findall(date_pattern, text)\n",
    "\n",
    "for match in matches:\n",
    "    print(match)\n"
   ]
  },
  {
   "cell_type": "code",
   "execution_count": 19,
   "id": "ba3e7d5b",
   "metadata": {},
   "outputs": [
    {
     "name": "stdout",
     "output_type": "stream",
     "text": [
      "'fox' found in the text.\n",
      "'dog' found in the text.\n",
      "'horse' not found in the text.\n"
     ]
    }
   ],
   "source": [
    "# Ans 15 \n",
    "\n",
    "# Let's take sample text\n",
    "sample_text = 'The quick brown fox jumps over the lazy dog.'\n",
    "\n",
    "searched_words = ['fox', 'dog', 'horse']\n",
    "\n",
    "for word in searched_words:\n",
    "    if word in sample_text:\n",
    "        print(f\"'{word}' found in the text.\")\n",
    "    else:\n",
    "        print(f\"'{word}' not found in the text.\")\n"
   ]
  },
  {
   "cell_type": "code",
   "execution_count": 20,
   "id": "48509f55",
   "metadata": {},
   "outputs": [
    {
     "name": "stdout",
     "output_type": "stream",
     "text": [
      "'fox' found at index 16.\n"
     ]
    }
   ],
   "source": [
    "# Ans 16\n",
    "\n",
    "# Let's take sample text\n",
    "sample_text = 'The quick brown fox jumps over the lazy dog.'\n",
    "\n",
    "searched_word = 'fox'\n",
    "\n",
    "location = sample_text.find(searched_word)\n",
    "\n",
    "if location != -1:\n",
    "    print(f\"'{searched_word}' found at index {location}.\")\n",
    "else:\n",
    "    print(f\"'{searched_word}' not found in the text.\")\n"
   ]
  },
  {
   "cell_type": "code",
   "execution_count": 22,
   "id": "ccbe28dd",
   "metadata": {},
   "outputs": [
    {
     "name": "stdout",
     "output_type": "stream",
     "text": [
      "Found 'exercises' from index 7 to 16\n",
      "Found 'exercises' from index 22 to 31\n",
      "Found 'exercises' from index 36 to 45\n",
      "\n",
      "Matched substrings:\n"
     ]
    }
   ],
   "source": [
    "# Ans 17 \n",
    "\n",
    "import re\n",
    "\n",
    "# Let's take a sample text\n",
    "sample_text = 'Python exercises, PHP exercises, C# exercises'\n",
    "\n",
    "pattern = 'exercises'\n",
    "\n",
    "matches = re.finditer(pattern, sample_text)\n",
    "\n",
    "for match in matches:\n",
    "    start = match.start()\n",
    "    end = match.end()\n",
    "    print(f\"Found '{pattern}' from index {start} to {end}\")\n",
    "\n",
    "print(\"\\nMatched substrings:\")\n",
    "for match in matches:\n",
    "    print(match.group())\n"
   ]
  },
  {
   "cell_type": "code",
   "execution_count": 23,
   "id": "d22eaba8",
   "metadata": {},
   "outputs": [
    {
     "name": "stdout",
     "output_type": "stream",
     "text": [
      "Found 'exercises' from index 7 to 16\n",
      "Found 'exercises' from index 22 to 31\n",
      "Found 'exercises' from index 36 to 45\n"
     ]
    }
   ],
   "source": [
    "# Ans 18\n",
    "\n",
    "import re\n",
    "\n",
    "def find_substring_occurrences_with_re(text, substring):\n",
    "    pattern = re.escape(substring)  # Using regex\n",
    "    matches = re.finditer(pattern, text)\n",
    "    for match in matches:\n",
    "        start = match.start()\n",
    "        end = match.end()\n",
    "        print(f\"Found '{substring}' from index {start} to {end}\")\n",
    "\n",
    "# Let's take sample text\n",
    "sample_text = 'Python exercises, PHP exercises, C# exercises'\n",
    "substring = 'exercises'\n",
    "\n",
    "find_substring_occurrences_with_re(sample_text, substring)\n"
   ]
  },
  {
   "cell_type": "code",
   "execution_count": 24,
   "id": "bb76a7a6",
   "metadata": {},
   "outputs": [
    {
     "name": "stdout",
     "output_type": "stream",
     "text": [
      "Converted date: 24-08-2024\n"
     ]
    }
   ],
   "source": [
    "# Ans 19 \n",
    "\n",
    "from datetime import datetime\n",
    "\n",
    "def convert_date_format(date_str):\n",
    "    # Define the input and output date formats\n",
    "    input_format = '%Y-%m-%d'\n",
    "    output_format = '%d-%m-%Y'\n",
    "    \n",
    "    date_obj = datetime.strptime(date_str, input_format)\n",
    "    \n",
    "    new_date_str = date_obj.strftime(output_format)\n",
    "    \n",
    "    return new_date_str\n",
    "\n",
    "# Let's take sample date\n",
    "date_str = '2024-08-24'\n",
    "\n",
    "converted_date = convert_date_format(date_str)\n",
    "print(f\"Converted date: {converted_date}\")\n"
   ]
  },
  {
   "cell_type": "code",
   "execution_count": 25,
   "id": "c9b14a6d",
   "metadata": {},
   "outputs": [
    {
     "name": "stdout",
     "output_type": "stream",
     "text": [
      "Decimal numbers with 1 or 2 decimal places: ['01.12', '145.8', '3.01', '27.25', '0.25']\n"
     ]
    }
   ],
   "source": [
    "# Ans 20 \n",
    "\n",
    "import re\n",
    "\n",
    "def find_decimal_numbers(text):\n",
    "    # At first compile the regular expression pattern\n",
    "    pattern = re.compile(r'\\b\\d+\\.\\d{1,2}\\b')\n",
    "    \n",
    "    matches = pattern.findall(text)\n",
    "    \n",
    "    return matches\n",
    "\n",
    "# Let's take a sample text\n",
    "sample_text = \"01.12 0132.123 2.31875 145.8 3.01 27.25 0.25\"\n",
    "\n",
    "result = find_decimal_numbers(sample_text)\n",
    "print(\"Decimal numbers with 1 or 2 decimal places:\", result)\n"
   ]
  },
  {
   "cell_type": "code",
   "execution_count": 26,
   "id": "103e24f0",
   "metadata": {},
   "outputs": [
    {
     "name": "stdout",
     "output_type": "stream",
     "text": [
      "Number: 45.50, Position: 13\n",
      "Number: 5.99, Position: 39\n",
      "Number: 50.00, Position: 56\n"
     ]
    }
   ],
   "source": [
    "# Ans 21 \n",
    "\n",
    "import re\n",
    "\n",
    "def find_numbers_and_positions(text):\n",
    "    # Let's compile the regular expression pattern to match numbers\n",
    "    pattern = re.compile(r'\\b\\d+(\\.\\d+)?\\b')\n",
    "    \n",
    "    matches = pattern.finditer(text)\n",
    "    \n",
    "    results = []\n",
    "    for match in matches:\n",
    "        number = match.group()\n",
    "        start_position = match.start()\n",
    "        results.append((number, start_position))\n",
    "    \n",
    "    return results\n",
    "\n",
    "# Let's take a sample text\n",
    "sample_text = \"The price is 45.50 and the discount is 5.99. Please pay 50.00.\"\n",
    "numbers_and_positions = find_numbers_and_positions(sample_text)\n",
    "for number, position in numbers_and_positions:\n",
    "    print(f\"Number: {number}, Position: {position}\")\n"
   ]
  },
  {
   "cell_type": "code",
   "execution_count": 27,
   "id": "c8250c52",
   "metadata": {},
   "outputs": [
    {
     "name": "stdout",
     "output_type": "stream",
     "text": [
      "The maximum numeric value is: 950\n"
     ]
    }
   ],
   "source": [
    "# Ans 22\n",
    "\n",
    "import re\n",
    "\n",
    "def find_max_numeric_value(text):\n",
    "    # Let's compile the regular expression pattern to match numeric values\n",
    "    pattern = re.compile(r'\\b\\d+\\b')\n",
    "    \n",
    "    matches = pattern.findall(text)\n",
    "    \n",
    "    numbers = [int(match) for match in matches]\n",
    "    \n",
    "    # Find the maximum value\n",
    "    if numbers:\n",
    "        max_value = max(numbers)\n",
    "        return max_value\n",
    "    else:\n",
    "        return None\n",
    "\n",
    "# Let's find the sample text\n",
    "sample_text = 'My marks in each semester are: 947, 896, 926, 524, 734, 950, 642'\n",
    "\n",
    "max_value = find_max_numeric_value(sample_text)\n",
    "print(f\"The maximum numeric value is: {max_value}\")\n",
    "\n"
   ]
  },
  {
   "cell_type": "code",
   "execution_count": 29,
   "id": "4567c391",
   "metadata": {},
   "outputs": [
    {
     "name": "stdout",
     "output_type": "stream",
     "text": [
      "Regular Expression Is An Important Topic In Python\n"
     ]
    }
   ],
   "source": [
    "# Ans 23\n",
    "\n",
    "import re\n",
    "\n",
    "def insert_spaces(text):\n",
    "    # Let's make a regular expression pattern to match capital letters that are preceded by lowercase letters or the start of the string\n",
    "    pattern = re.compile(r'(?<!^)(?<!\\s)(?=[A-Z])')\n",
    "    \n",
    "    spaced_text = pattern.sub(' ', text)\n",
    "    \n",
    "    return spaced_text\n",
    "\n",
    "# Let's take a sample text\n",
    "sample_text = \"RegularExpressionIsAnImportantTopicInPython\"\n",
    "\n",
    "formatted_text = insert_spaces(sample_text)\n",
    "print(formatted_text)\n"
   ]
  },
  {
   "cell_type": "code",
   "execution_count": 30,
   "id": "03d3d60e",
   "metadata": {},
   "outputs": [
    {
     "name": "stdout",
     "output_type": "stream",
     "text": [
      "['Here', 'Examples', 'Mixed', 'Case', 'Words', 'Another', 'Example', 'Sentence']\n"
     ]
    }
   ],
   "source": [
    "# Ans 24 \n",
    "\n",
    "import re\n",
    "\n",
    "def find_uppercase_lowercase_sequences(text):\n",
    "    pattern = re.compile(r'[A-Z][a-z]+')\n",
    "    \n",
    "    # Find all matches in the given text\n",
    "    matches = pattern.findall(text)\n",
    "    \n",
    "    return matches\n",
    "\n",
    "# Let's take a sample text\n",
    "sample_text = \"Here are some Examples of MixedCaseWords and AnotherExample in a Sentence.\"\n",
    "\n",
    "sequences = find_uppercase_lowercase_sequences(sample_text)\n",
    "print(sequences)\n"
   ]
  },
  {
   "cell_type": "code",
   "execution_count": 31,
   "id": "688575e8",
   "metadata": {},
   "outputs": [
    {
     "name": "stdout",
     "output_type": "stream",
     "text": [
      "Hello world\n"
     ]
    }
   ],
   "source": [
    "# Ans 25\n",
    "\n",
    "import re\n",
    "\n",
    "def remove_continuous_duplicates(sentence):\n",
    "    # Let's compile the regular expression pattern\n",
    "    pattern = re.compile(r'\\b(\\w+)\\s+\\1\\b', re.IGNORECASE)\n",
    "    \n",
    "    result = pattern.sub(r'\\1', sentence)\n",
    "    \n",
    "    return result\n",
    "\n",
    "# Let's take sample text\n",
    "sample_text = \"Hello hello world world\"\n",
    "\n",
    "cleaned_text = remove_continuous_duplicates(sample_text)\n",
    "print(cleaned_text)\n"
   ]
  },
  {
   "cell_type": "code",
   "execution_count": 32,
   "id": "1ca1fb2e",
   "metadata": {},
   "outputs": [
    {
     "name": "stdout",
     "output_type": "stream",
     "text": [
      "'Hello123' ends with an alphanumeric character: False\n",
      "'Hello World!' ends with an alphanumeric character: False\n",
      "'SampleText1' ends with an alphanumeric character: False\n",
      "'12345' ends with an alphanumeric character: False\n",
      "'NoSpecialChars' ends with an alphanumeric character: False\n",
      "'SpecialChar@' ends with an alphanumeric character: False\n"
     ]
    }
   ],
   "source": [
    "# Ans 26\n",
    "\n",
    "import re\n",
    "\n",
    "def ends_with_alphanumeric(string):\n",
    "    # Let's compile the regular expression pattern\n",
    "    pattern = re.compile(r'\\w$')\n",
    "    \n",
    "    if pattern.match(string):\n",
    "        return True\n",
    "    else:\n",
    "        return False\n",
    "\n",
    "# Let's take a sample strings for testing\n",
    "samples = [\n",
    "    \"Hello123\",\n",
    "    \"Hello World!\",\n",
    "    \"SampleText1\",\n",
    "    \"12345\",\n",
    "    \"NoSpecialChars\",\n",
    "    \"SpecialChar@\",\n",
    "]\n",
    "\n",
    "for sample in samples:\n",
    "    result = ends_with_alphanumeric(sample)\n",
    "    print(f\"'{sample}' ends with an alphanumeric character: {result}\")\n"
   ]
  },
  {
   "cell_type": "code",
   "execution_count": 33,
   "id": "b5870d52",
   "metadata": {},
   "outputs": [
    {
     "name": "stdout",
     "output_type": "stream",
     "text": [
      "['#Doltiwal', '#xyzabc', '#Demonetization']\n"
     ]
    }
   ],
   "source": [
    "# Ans 27\n",
    "\n",
    "import re\n",
    "\n",
    "def extract_hashtags(text):\n",
    "    # Let's compile the regular expression pattern\n",
    "    pattern = re.compile(r'#\\w+')\n",
    "    \n",
    "    hashtags = pattern.findall(text)\n",
    "    \n",
    "    return hashtags\n",
    "\n",
    "# Let's take a sample text\n",
    "sample_text = \"\"\"RT @kapil_kausik: #Doltiwal I mean #xyzabc is \"hurt\" by #Demonetization as the same has rendered USELESS <ed><U+00A0><U+00BD><ed><U+00B1><U+0089> \"acquired funds\" No wo\"\"\"\n",
    "\n",
    "# At last extract hashtags\n",
    "hashtags = extract_hashtags(sample_text)\n",
    "print(hashtags)\n"
   ]
  },
  {
   "cell_type": "code",
   "execution_count": 34,
   "id": "804ba802",
   "metadata": {},
   "outputs": [
    {
     "name": "stdout",
     "output_type": "stream",
     "text": [
      "@Jags123456 Bharat band on 28??Those who  are protesting #demonetization  are all different party leaders\n"
     ]
    }
   ],
   "source": [
    "# Ans 28\n",
    "\n",
    "import re\n",
    "\n",
    "def remove_symbols(text):\n",
    "    # Let's compile the regular expression pattern\n",
    "    pattern = re.compile(r'<U\\+[0-9A-Fa-f]{4}>|<ed>')\n",
    "    \n",
    "    cleaned_text = pattern.sub('', text)\n",
    "    \n",
    "    return cleaned_text\n",
    "\n",
    "# Let's take a sample text\n",
    "sample_text = \"@Jags123456 Bharat band on 28??<ed><U+00A0><U+00BD><ed><U+00B8><U+0082>Those who  are protesting #demonetization  are all different party leaders\"\n",
    "\n",
    "# At last remove symbols\n",
    "cleaned_text = remove_symbols(sample_text)\n",
    "print(cleaned_text)\n"
   ]
  },
  {
   "cell_type": "code",
   "execution_count": 35,
   "id": "a2d378d9",
   "metadata": {},
   "outputs": [
    {
     "name": "stdout",
     "output_type": "stream",
     "text": [
      "Extracted Dates: ['12-09-1992', '15-12-1999']\n"
     ]
    }
   ],
   "source": [
    "# Ans 29\n",
    "\n",
    "import re\n",
    "\n",
    "def extract_dates_from_file(filename):\n",
    "    date_pattern = re.compile(r'\\b\\d{2}-\\d{2}-\\d{4}\\b')\n",
    "\n",
    "    with open(filename, 'r') as file:\n",
    "        text = file.read()\n",
    "\n",
    "    dates = date_pattern.findall(text)\n",
    "    \n",
    "    return dates\n",
    "\n",
    "sample_text = \"Ron was born on 12-09-1992 and he was admitted to school 15-12-1999.\"\n",
    "filename = 'sample_text.txt'\n",
    "\n",
    "with open(filename, 'w') as file:\n",
    "    file.write(sample_text)\n",
    "\n",
    "# At last extract dates from the file\n",
    "dates = extract_dates_from_file(filename)\n",
    "print(\"Extracted Dates:\", dates)\n"
   ]
  },
  {
   "cell_type": "code",
   "execution_count": 36,
   "id": "4e7a070b",
   "metadata": {},
   "outputs": [
    {
     "name": "stdout",
     "output_type": "stream",
     "text": [
      "Result: following example creates ArrayList a capacity elements. 4 elements added ArrayList ArrayList trimmed accordingly.\n"
     ]
    }
   ],
   "source": [
    "# Ans 30 \n",
    "\n",
    "import re\n",
    "\n",
    "def remove_short_words(text):\n",
    "    # Let's Compile the regex pattern to match words of length between 2 and 4\n",
    "    pattern = re.compile(r'\\b\\w{2,4}\\b')\n",
    "    \n",
    "    modified_text = pattern.sub('', text)\n",
    "    \n",
    "    modified_text = re.sub(r'\\s+', ' ', modified_text).strip()\n",
    "    \n",
    "    return modified_text\n",
    "\n",
    "# let's take a sample text\n",
    "sample_text = \"The following example creates an ArrayList with a capacity of 50 elements. 4 elements are then added to the ArrayList and the ArrayList is trimmed accordingly.\"\n",
    "\n",
    "# At last remove words of length between 2 and 4\n",
    "result = remove_short_words(sample_text)\n",
    "print(\"Result:\", result)\n"
   ]
  },
  {
   "cell_type": "code",
   "execution_count": null,
   "id": "50b08858",
   "metadata": {},
   "outputs": [],
   "source": []
  }
 ],
 "metadata": {
  "kernelspec": {
   "display_name": "Python 3 (ipykernel)",
   "language": "python",
   "name": "python3"
  },
  "language_info": {
   "codemirror_mode": {
    "name": "ipython",
    "version": 3
   },
   "file_extension": ".py",
   "mimetype": "text/x-python",
   "name": "python",
   "nbconvert_exporter": "python",
   "pygments_lexer": "ipython3",
   "version": "3.9.13"
  }
 },
 "nbformat": 4,
 "nbformat_minor": 5
}
